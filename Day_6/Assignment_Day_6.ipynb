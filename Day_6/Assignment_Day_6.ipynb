{
 "cells": [
  {
   "cell_type": "raw",
   "metadata": {},
   "source": [
    "1.)Assuming that we ahve some  email addresses in the \"username@companyname.com\" format,please write program\n",
    "   to print the company name of a given email address.Both user names and company names are composed of letters\n",
    "   only."
   ]
  },
  {
   "cell_type": "code",
   "execution_count": 3,
   "metadata": {},
   "outputs": [
    {
     "name": "stdout",
     "output_type": "stream",
     "text": [
      "Enter a email id:suraj.datkhile@qualitykiosk.com\n",
      "qualitykiosk\n"
     ]
    }
   ],
   "source": [
    "s= input(\"Enter a email id:\")\n",
    "x=s.split(\"@\")\n",
    "y=x[1].split(\".\")\n",
    "print(y[0])          \n",
    "    "
   ]
  },
  {
   "cell_type": "raw",
   "metadata": {},
   "source": [
    "2.) WAP that accepts a comma-seprated sequence of words as input and prints the words in a comma seprated sequence after\n",
    "    sorting them alphabetically."
   ]
  },
  {
   "cell_type": "code",
   "execution_count": 8,
   "metadata": {},
   "outputs": [
    {
     "name": "stdout",
     "output_type": "stream",
     "text": [
      "The sorted words are :\n",
      "bag,hello,without,world,\n"
     ]
    }
   ],
   "source": [
    "my_str =\"without,hello,bag,world\"\n",
    "new_str=\"\"\n",
    "words=my_str.split(\",\")#breakdown the sting into the list of words\n",
    "##print(words)\n",
    "\n",
    "words.sort()#sort the list\n",
    "print(\"The sorted words are :\")#display the sorted words\n",
    "\n",
    "for word in words:\n",
    "    new_str=new_str+word+\",\"\n",
    "\n",
    "print(new_str)"
   ]
  },
  {
   "cell_type": "raw",
   "metadata": {},
   "source": [
    "3.)create your own Jupyter notebook for sets."
   ]
  },
  {
   "cell_type": "code",
   "execution_count": 9,
   "metadata": {},
   "outputs": [
    {
     "name": "stdout",
     "output_type": "stream",
     "text": [
      "banana\n",
      "cherry\n",
      "apple\n"
     ]
    }
   ],
   "source": [
    "Thisset={\"apple\",\"banana\",\"cherry\"}\n",
    "\n",
    "for i in Thisset:\n",
    "    print(i)"
   ]
  },
  {
   "cell_type": "raw",
   "metadata": {},
   "source": [
    "4.) Given a list of n-1 numbers ranging from 1 to n,your task is to find the missing number.there are no duplicates."
   ]
  },
  {
   "cell_type": "code",
   "execution_count": 14,
   "metadata": {},
   "outputs": [
    {
     "name": "stdout",
     "output_type": "stream",
     "text": [
      "15.0\n",
      "11\n",
      "4.0\n"
     ]
    }
   ],
   "source": [
    "def getMissingNo(A):\n",
    "    n=len(A)\n",
    "    ##print(n)\n",
    "    total=(n+1)*(n+2)/2\n",
    "    print(total)\n",
    "    Sum_of_A=sum(A)\n",
    "    print(Sum_of_A)\n",
    "    return total-Sum_of_A\n",
    "    \n",
    "    \n",
    " #Drive a program to test the above function   \n",
    "    \n",
    "A=[1,2,3,5] \n",
    "miss= getMissingNo(A)\n",
    "print(miss)"
   ]
  },
  {
   "cell_type": "raw",
   "metadata": {},
   "source": [
    "5.) with the given list L,WAP to print this list L after removing  all duplicates values with original order reserved."
   ]
  },
  {
   "cell_type": "code",
   "execution_count": 16,
   "metadata": {},
   "outputs": [
    {
     "name": "stdout",
     "output_type": "stream",
     "text": [
      "[12, 24, 35, 88, 120, 155]\n"
     ]
    }
   ],
   "source": [
    "mylist=[12,24,35,24,88,120,155,88,120,155,88,120,155]\n",
    "mylist=list(dict.fromkeys(mylist))\n",
    "print(mylist)"
   ]
  }
 ],
 "metadata": {
  "kernelspec": {
   "display_name": "Python 3",
   "language": "python",
   "name": "python3"
  },
  "language_info": {
   "codemirror_mode": {
    "name": "ipython",
    "version": 3
   },
   "file_extension": ".py",
   "mimetype": "text/x-python",
   "name": "python",
   "nbconvert_exporter": "python",
   "pygments_lexer": "ipython3",
   "version": "3.7.6"
  }
 },
 "nbformat": 4,
 "nbformat_minor": 4
}
