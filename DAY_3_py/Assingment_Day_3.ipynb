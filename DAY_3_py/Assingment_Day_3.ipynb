{
 "cells": [
  {
   "cell_type": "markdown",
   "metadata": {},
   "source": [
    "1.) WAP to sustract two complex number in python "
   ]
  },
  {
   "cell_type": "code",
   "execution_count": 2,
   "metadata": {},
   "outputs": [
    {
     "name": "stdout",
     "output_type": "stream",
     "text": [
      "substraction of two complex number is = (-1+2j)\n"
     ]
    }
   ],
   "source": [
    "complexno1= 3 + 7j\n",
    "complexno2= 4 + 5j\n",
    "print('substraction of two complex number is =',complexno1-complexno2)"
   ]
  },
  {
   "cell_type": "markdown",
   "metadata": {},
   "source": [
    "2.) WAP to find the fourth root of number"
   ]
  },
  {
   "cell_type": "code",
   "execution_count": 4,
   "metadata": {},
   "outputs": [
    {
     "name": "stdout",
     "output_type": "stream",
     "text": [
      "The fourth root of number x is = 2.8284271247461903\n"
     ]
    }
   ],
   "source": [
    "x=64\n",
    "fourth_root= 64\n",
    "print('The fourth root of number x is =',64**0.25)"
   ]
  },
  {
   "cell_type": "markdown",
   "metadata": {},
   "source": [
    "3.WAP to swap two number in python with the help of temporaray variable."
   ]
  },
  {
   "cell_type": "code",
   "execution_count": 15,
   "metadata": {},
   "outputs": [
    {
     "name": "stdout",
     "output_type": "stream",
     "text": [
      "after swaping the value A and B is:\n",
      "A = 17\n",
      "B = 15\n"
     ]
    }
   ],
   "source": [
    "a=15\n",
    "b=17\n",
    "\n",
    "temp=a\n",
    "a=b\n",
    "b=temp\n",
    "\n",
    "print(\"after swaping the value A and B is:\")\n",
    "print('A =',a)\n",
    "print('B =',b)\n"
   ]
  },
  {
   "cell_type": "code",
   "execution_count": null,
   "metadata": {},
   "outputs": [],
   "source": [
    "4.WAP to swap atwo number without using temporary variable"
   ]
  },
  {
   "cell_type": "code",
   "execution_count": 16,
   "metadata": {},
   "outputs": [
    {
     "name": "stdout",
     "output_type": "stream",
     "text": [
      "after swaping the value A and B is:\n",
      "A = 17\n",
      "B =  15\n"
     ]
    }
   ],
   "source": [
    "a=15\n",
    "b=17\n",
    "\n",
    "a=a+b\n",
    "b=a-b\n",
    "a=a-b\n",
    "\n",
    "print(\"after swaping the value A and B is:\")\n",
    "print(\"A =\",a)\n",
    "print(\"B = \",b)"
   ]
  },
  {
   "cell_type": "raw",
   "metadata": {},
   "source": [
    "5.WAP to convert fahrenheit to kelvin and celsius both?"
   ]
  },
  {
   "cell_type": "code",
   "execution_count": 4,
   "metadata": {},
   "outputs": [
    {
     "name": "stdout",
     "output_type": "stream",
     "text": [
      "Temperature in Kelvin( K ) =  311.27777777777777\n",
      "Temprature in celsius ( C ) =  373.15\n"
     ]
    }
   ],
   "source": [
    "F=100\n",
    "C=100\n",
    "k=273.5 + ((F-32) * (5/9))\n",
    "C= C+273.15\n",
    "print(\"Temperature in Kelvin( K ) = \",k)\n",
    "print(\"Temprature in celsius ( C ) = \",C)"
   ]
  },
  {
   "cell_type": "raw",
   "metadata": {},
   "source": [
    "6.WAP to demonstrate all the available data types in python.Hint:use type() function."
   ]
  },
  {
   "cell_type": "code",
   "execution_count": 5,
   "metadata": {},
   "outputs": [
    {
     "data": {
      "text/plain": [
       "int"
      ]
     },
     "execution_count": 5,
     "metadata": {},
     "output_type": "execute_result"
    }
   ],
   "source": [
    "A=25\n",
    "type(A)"
   ]
  },
  {
   "cell_type": "code",
   "execution_count": 6,
   "metadata": {},
   "outputs": [
    {
     "data": {
      "text/plain": [
       "float"
      ]
     },
     "execution_count": 6,
     "metadata": {},
     "output_type": "execute_result"
    }
   ],
   "source": [
    "B=15.85\n",
    "type(B)"
   ]
  },
  {
   "cell_type": "code",
   "execution_count": 7,
   "metadata": {},
   "outputs": [
    {
     "data": {
      "text/plain": [
       "int"
      ]
     },
     "execution_count": 7,
     "metadata": {},
     "output_type": "execute_result"
    }
   ],
   "source": [
    "C=874521023566333\n",
    "type(C)"
   ]
  },
  {
   "cell_type": "code",
   "execution_count": 8,
   "metadata": {},
   "outputs": [
    {
     "data": {
      "text/plain": [
       "str"
      ]
     },
     "execution_count": 8,
     "metadata": {},
     "output_type": "execute_result"
    }
   ],
   "source": [
    "C=\"suraj\"\n",
    "type(C)"
   ]
  },
  {
   "cell_type": "code",
   "execution_count": 9,
   "metadata": {},
   "outputs": [
    {
     "data": {
      "text/plain": [
       "list"
      ]
     },
     "execution_count": 9,
     "metadata": {},
     "output_type": "execute_result"
    }
   ],
   "source": [
    "L=[12,25,86,98.5,\"suraj\"]\n",
    "type(L)"
   ]
  },
  {
   "cell_type": "code",
   "execution_count": 10,
   "metadata": {},
   "outputs": [
    {
     "data": {
      "text/plain": [
       "tuple"
      ]
     },
     "execution_count": 10,
     "metadata": {},
     "output_type": "execute_result"
    }
   ],
   "source": [
    "tup=(54,78,9,52,63)\n",
    "type(tup)"
   ]
  },
  {
   "cell_type": "code",
   "execution_count": 11,
   "metadata": {},
   "outputs": [
    {
     "data": {
      "text/plain": [
       "set"
      ]
     },
     "execution_count": 11,
     "metadata": {},
     "output_type": "execute_result"
    }
   ],
   "source": [
    "d={87,85,'ghhg',5}\n",
    "type(d)"
   ]
  },
  {
   "cell_type": "raw",
   "metadata": {},
   "source": [
    "7.) Create a markdown cell in jupyter and list the steps discussed in the session by Dr. Darshan ingle sir to create Github profile and upload Githubs Assignment link"
   ]
  },
  {
   "cell_type": "markdown",
   "metadata": {},
   "source": [
    "step-1 : Login To GitHub\n",
    "\n",
    "step-2 : Create a New Repository in Github with Name of letsUpgrade-AI-ML.\n",
    "\n",
    "step-3: Submit Assignment Folder in your repository which you have created.\n",
    "\n",
    "step-5: click on folder you have submitted and copy the link from browser and submit it intoLetsupgrade assignment Link.\n",
    "\n"
   ]
  }
 ],
 "metadata": {
  "kernelspec": {
   "display_name": "Python 3",
   "language": "python",
   "name": "python3"
  },
  "language_info": {
   "codemirror_mode": {
    "name": "ipython",
    "version": 3
   },
   "file_extension": ".py",
   "mimetype": "text/x-python",
   "name": "python",
   "nbconvert_exporter": "python",
   "pygments_lexer": "ipython3",
   "version": "3.7.6"
  }
 },
 "nbformat": 4,
 "nbformat_minor": 4
}
