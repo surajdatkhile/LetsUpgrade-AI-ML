{
 "cells": [
  {
   "cell_type": "raw",
   "metadata": {},
   "source": [
    "1. Create a 3x3x3 array with random values"
   ]
  },
  {
   "cell_type": "code",
   "execution_count": 4,
   "metadata": {},
   "outputs": [
    {
     "name": "stdout",
     "output_type": "stream",
     "text": [
      "[[[0.11393165 0.84004647 0.50122353]\n",
      "  [0.91489098 0.57998273 0.24833098]\n",
      "  [0.01855973 0.1645956  0.81321127]]\n",
      "\n",
      " [[0.45904489 0.29179541 0.38592411]\n",
      "  [0.76392125 0.82435784 0.03020598]\n",
      "  [0.42739262 0.99196627 0.15748816]]\n",
      "\n",
      " [[0.71540582 0.09238877 0.24077313]\n",
      "  [0.69003384 0.58316112 0.02814089]\n",
      "  [0.47056893 0.41548136 0.51771435]]]\n"
     ]
    }
   ],
   "source": [
    "import numpy as np\n",
    "a = np.random.random((3,3,3))\n",
    "print(a)\n"
   ]
  },
  {
   "cell_type": "raw",
   "metadata": {},
   "source": [
    " 2.Create a 5x5 matrix with values 1,2,3,4 just below the diagonal"
   ]
  },
  {
   "cell_type": "code",
   "execution_count": 11,
   "metadata": {},
   "outputs": [
    {
     "name": "stdout",
     "output_type": "stream",
     "text": [
      "[[0 0 0 0 0]\n",
      " [1 0 0 0 0]\n",
      " [0 2 0 0 0]\n",
      " [0 0 3 0 0]\n",
      " [0 0 0 4 0]]\n"
     ]
    }
   ],
   "source": [
    "b = np.diag(1+np.arange(4), k = -1)\n",
    "print(b)"
   ]
  },
  {
   "cell_type": "raw",
   "metadata": {},
   "source": [
    "3.Create a 8x8 matrix and fill it with a checkerboard pattern\n"
   ]
  },
  {
   "cell_type": "code",
   "execution_count": 15,
   "metadata": {},
   "outputs": [
    {
     "name": "stdout",
     "output_type": "stream",
     "text": [
      "[[0 1 0 1 0 1 0 1]\n",
      " [2 0 2 0 2 0 2 0]\n",
      " [0 1 0 1 0 1 0 1]\n",
      " [2 0 2 0 2 0 2 0]\n",
      " [0 1 0 1 0 1 0 1]\n",
      " [2 0 2 0 2 0 2 0]\n",
      " [0 1 0 1 0 1 0 1]\n",
      " [2 0 2 0 2 0 2 0]]\n"
     ]
    }
   ],
   "source": [
    "c = np.zeros ((8,8), dtype=int)\n",
    "c[1::2, ::2]= 2\n",
    "c[::2, 1::2] = 1\n",
    "print (c)"
   ]
  },
  {
   "cell_type": "raw",
   "metadata": {},
   "source": [
    "4. Normalize a 5x5 random matrix\n"
   ]
  },
  {
   "cell_type": "code",
   "execution_count": 17,
   "metadata": {},
   "outputs": [
    {
     "name": "stdout",
     "output_type": "stream",
     "text": [
      "[[0.82279276 0.14797671 0.87132067 0.57876892 0.85053443]\n",
      " [0.77062568 0.68145178 0.15610746 0.47847798 0.65456228]\n",
      " [0.31138246 0.31380289 0.46067327 0.52592555 0.24442076]\n",
      " [0.93127821 0.36232245 0.76156151 0.83770723 0.21455838]\n",
      " [1.         0.38849082 0.         0.28868089 0.30432032]]\n"
     ]
    }
   ],
   "source": [
    "Z=np.random.random((5,5))\n",
    "Zmax, Zmin = Z.max(), Z.min()\n",
    "Z= (Z-Zmin)/(Zmax-Zmin)\n",
    "print (Z)"
   ]
  },
  {
   "cell_type": "raw",
   "metadata": {},
   "source": [
    "5. How to find common values between two arrays?"
   ]
  },
  {
   "cell_type": "code",
   "execution_count": 18,
   "metadata": {},
   "outputs": [
    {
     "name": "stdout",
     "output_type": "stream",
     "text": [
      "Array1:  [10 20 40 60 80 45]\n",
      "Array2:  [10, 30, 40, 80, 90, 50, 45]\n",
      "Common values between two arrays:\n",
      "[10 40 45 80]\n"
     ]
    }
   ],
   "source": [
    "import numpy as np\n",
    "array1 = np.array([10, 20, 40, 60,80,45])\n",
    "print(\"Array1: \",array1)\n",
    "array2 = [10, 30, 40,80,90,50,45]\n",
    "print(\"Array2: \",array2)\n",
    "print(\"Common values between two arrays:\")\n",
    "print(np.intersect1d(array1, array2))"
   ]
  },
  {
   "cell_type": "raw",
   "metadata": {},
   "source": [
    "6.How to get the dates of yesterday, today and tomorrow?"
   ]
  },
  {
   "cell_type": "code",
   "execution_count": 19,
   "metadata": {},
   "outputs": [
    {
     "name": "stdout",
     "output_type": "stream",
     "text": [
      "Yestraday:  2020-07-27\n",
      "Today:  2020-07-28\n",
      "Tomorrow:  2020-07-29\n"
     ]
    }
   ],
   "source": [
    "import numpy as np\n",
    "yesterday = np.datetime64('today', 'D') - np.timedelta64(1, 'D')\n",
    "print(\"Yestraday: \",yesterday)\n",
    "today     = np.datetime64('today', 'D')\n",
    "print(\"Today: \",today)\n",
    "tomorrow  = np.datetime64('today', 'D') + np.timedelta64(1, 'D')\n",
    "print(\"Tomorrow: \",tomorrow)"
   ]
  },
  {
   "cell_type": "raw",
   "metadata": {},
   "source": [
    "7. Consider two random array A and B, check if they are equal\n"
   ]
  },
  {
   "cell_type": "code",
   "execution_count": 20,
   "metadata": {},
   "outputs": [
    {
     "name": "stdout",
     "output_type": "stream",
     "text": [
      "[0 0 0 1 0 0 0 1 1 1]\n",
      "[0 1 0 0 1 1 0 0 0 0]\n",
      "False\n"
     ]
    }
   ],
   "source": [
    "A1 = np.random.randint(0,2,10)\n",
    "A2 = np.random.randint(0,2,10)\n",
    "equal = np.allclose(A1,A2)\n",
    "print(A1)\n",
    "print(A2)\n",
    "print(equal)\n"
   ]
  },
  {
   "cell_type": "raw",
   "metadata": {},
   "source": [
    "8.Create random vector of size 10 and replace the maximum value by 0"
   ]
  },
  {
   "cell_type": "code",
   "execution_count": 21,
   "metadata": {},
   "outputs": [
    {
     "name": "stdout",
     "output_type": "stream",
     "text": [
      "The Random Vector :\n",
      " [0.81551998 0.75962186 0.48989525 0.69388756 0.48957567 0.42513103\n",
      " 0.82901959 0.58898231 0.89388704 0.02720619]\n",
      "The Replace vector :\n",
      " [0.81551998 0.75962186 0.48989525 0.69388756 0.48957567 0.42513103\n",
      " 0.82901959 0.58898231 0.         0.02720619]\n"
     ]
    }
   ],
   "source": [
    "vector = np.random.random(10)\n",
    "print(\"The Random Vector :\\n\", vector)\n",
    "vector[vector.argmax()] = 0\n",
    "print(\"The Replace vector :\\n\",vector)"
   ]
  },
  {
   "cell_type": "raw",
   "metadata": {},
   "source": [
    "9. How to print all the values of an array"
   ]
  },
  {
   "cell_type": "code",
   "execution_count": 23,
   "metadata": {},
   "outputs": [
    {
     "name": "stdout",
     "output_type": "stream",
     "text": [
      "[[0. 0. 0. 0. 0. 0. 0. 0. 0. 0.]\n",
      " [0. 0. 0. 0. 0. 0. 0. 0. 0. 0.]\n",
      " [0. 0. 0. 0. 0. 0. 0. 0. 0. 0.]\n",
      " [0. 0. 0. 0. 0. 0. 0. 0. 0. 0.]\n",
      " [0. 0. 0. 0. 0. 0. 0. 0. 0. 0.]\n",
      " [0. 0. 0. 0. 0. 0. 0. 0. 0. 0.]\n",
      " [0. 0. 0. 0. 0. 0. 0. 0. 0. 0.]\n",
      " [0. 0. 0. 0. 0. 0. 0. 0. 0. 0.]\n",
      " [0. 0. 0. 0. 0. 0. 0. 0. 0. 0.]\n",
      " [0. 0. 0. 0. 0. 0. 0. 0. 0. 0.]]\n"
     ]
    }
   ],
   "source": [
    "import numpy as np \n",
    "\n",
    "with np.printoptions(precision = 3): \n",
    "     print(np.zeros((10,10)))"
   ]
  },
  {
   "cell_type": "raw",
   "metadata": {},
   "source": [
    "10.Subtract the mean of each row of a matrix"
   ]
  },
  {
   "cell_type": "code",
   "execution_count": 24,
   "metadata": {},
   "outputs": [
    {
     "data": {
      "text/plain": [
       "array([[ 0.26022748,  0.27246091, -0.53268839],\n",
       "       [ 0.10003519, -0.0093001 , -0.09073509],\n",
       "       [ 0.27308073, -0.08515126, -0.18792947]])"
      ]
     },
     "execution_count": 24,
     "metadata": {},
     "output_type": "execute_result"
    }
   ],
   "source": [
    "X = np.random.rand(3,3)\n",
    "\n",
    "Y = X - X.mean(axis=1).reshape(-1, 1)\n",
    "\n",
    "Y"
   ]
  },
  {
   "cell_type": "raw",
   "metadata": {},
   "source": [
    "11.Consider a given vector, how to add 1 to each element indexed by a second vector (be careful with repeated indices)?"
   ]
  },
  {
   "cell_type": "code",
   "execution_count": 25,
   "metadata": {},
   "outputs": [
    {
     "name": "stdout",
     "output_type": "stream",
     "text": [
      "[1. 1. 1. 1. 1.]\n",
      "[4 4 0 1 0 4 2 2 1 1]\n",
      "[3. 4. 3. 1. 4.]\n"
     ]
    }
   ],
   "source": [
    "Z = np.ones(5)\n",
    "print(Z)\n",
    "I = np.random.randint(0,len(Z),10)\n",
    "print(I)\n",
    "Z += np.bincount(I, minlength=len(Z))\n",
    "print(Z)\n"
   ]
  },
  {
   "cell_type": "raw",
   "metadata": {},
   "source": [
    "12.How to get the diagonal of a dot product?"
   ]
  },
  {
   "cell_type": "code",
   "execution_count": 26,
   "metadata": {},
   "outputs": [
    {
     "name": "stdout",
     "output_type": "stream",
     "text": [
      "[[1 9 3]\n",
      " [7 1 3]\n",
      " [5 1 4]]\n",
      "[[1 6 3]\n",
      " [2 1 9]\n",
      " [7 1 2]]\n"
     ]
    },
    {
     "data": {
      "text/plain": [
       "array([40, 46, 32])"
      ]
     },
     "execution_count": 26,
     "metadata": {},
     "output_type": "execute_result"
    }
   ],
   "source": [
    "A = np.random.randint(0,10,(3,3))\n",
    "B= np.random.randint(0,10,(3,3))\n",
    "#Slow version\n",
    "print(A)\n",
    "print(B)\n",
    "\n",
    "np.diag(np.dot(A, B))\n",
    "np.sum(A * B.T, axis=1)\n",
    "np.einsum(\"ij,ji->i\", A, B)"
   ]
  },
  {
   "cell_type": "raw",
   "metadata": {},
   "source": [
    "13.How to find the most frequent value in an array?"
   ]
  },
  {
   "cell_type": "code",
   "execution_count": 27,
   "metadata": {},
   "outputs": [
    {
     "name": "stdout",
     "output_type": "stream",
     "text": [
      "[9 6 0 3 1 9 9 7 0 7 1 7 0 5 4 3 3 7 2 1]\n",
      "rank: 7\n"
     ]
    }
   ],
   "source": [
    "arr = np.random.randint(0,10,20)\n",
    "print (arr)\n",
    "print('rank:', np.bincount(arr).argmax())"
   ]
  },
  {
   "cell_type": "raw",
   "metadata": {},
   "source": [
    "14.How to get the n largest values of an array"
   ]
  },
  {
   "cell_type": "code",
   "execution_count": 28,
   "metadata": {},
   "outputs": [
    {
     "name": "stdout",
     "output_type": "stream",
     "text": [
      "[95 96 97 98 99]\n"
     ]
    }
   ],
   "source": [
    "Z = np.arange(100)\n",
    "np.random.shuffle(Z)\n",
    "n = 5\n",
    "\n",
    "print (Z[np.argsort(Z)[-n:]])"
   ]
  },
  {
   "cell_type": "raw",
   "metadata": {},
   "source": [
    "15.How to create a record array from a regular array?"
   ]
  },
  {
   "cell_type": "code",
   "execution_count": 33,
   "metadata": {},
   "outputs": [
    {
     "name": "stdout",
     "output_type": "stream",
     "text": [
      "[['Lets' '1' '3']\n",
      " ['Upgrade' '3' '2']]\n",
      "[(b'Lets', 1., 3) (b'Upgrade', 3., 2)]\n"
     ]
    }
   ],
   "source": [
    "a = np.array([(\"Lets\", 1, 3),\n",
    "              (\"Upgrade\", 3, 2)])\n",
    "b = np.core.records.fromarrays(a.T,\n",
    "                               names='col1, col2, col3',\n",
    "                               formats = 'S8, f8, i8')\n",
    "print(a)\n",
    "print(b)\n"
   ]
  },
  {
   "cell_type": "code",
   "execution_count": null,
   "metadata": {},
   "outputs": [],
   "source": []
  }
 ],
 "metadata": {
  "kernelspec": {
   "display_name": "Python 3",
   "language": "python",
   "name": "python3"
  },
  "language_info": {
   "codemirror_mode": {
    "name": "ipython",
    "version": 3
   },
   "file_extension": ".py",
   "mimetype": "text/x-python",
   "name": "python",
   "nbconvert_exporter": "python",
   "pygments_lexer": "ipython3",
   "version": "3.7.6"
  }
 },
 "nbformat": 4,
 "nbformat_minor": 4
}
