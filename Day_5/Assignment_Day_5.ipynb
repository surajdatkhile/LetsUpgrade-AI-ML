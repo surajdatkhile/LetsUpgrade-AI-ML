{
 "cells": [
  {
   "cell_type": "markdown",
   "metadata": {},
   "source": [
    "1.) WAP to find the first 20 non-even prime natural numbers."
   ]
  },
  {
   "cell_type": "code",
   "execution_count": 36,
   "metadata": {},
   "outputs": [
    {
     "name": "stdout",
     "output_type": "stream",
     "text": [
      "3 4 5 7 11 13 17 19 23 29 31 37 41 43 47 53 59 61 67 71 73 "
     ]
    }
   ],
   "source": [
    "lo=3\n",
    "up=75\n",
    "\n",
    "for i in range(lo,up+1):\n",
    "    if i > 1:\n",
    "        for j in range(3,i):\n",
    "            if(i%j==0):\n",
    "                break\n",
    "        else:\n",
    "            print(i,end=\" \")"
   ]
  },
  {
   "cell_type": "raw",
   "metadata": {},
   "source": [
    "2.) Wap to implement 15 functions of string."
   ]
  },
  {
   "cell_type": "code",
   "execution_count": 60,
   "metadata": {},
   "outputs": [
    {
     "name": "stdout",
     "output_type": "stream",
     "text": [
      "1.capitalize function : Lets upgrade\n",
      "2.count of value occurs : 2\n",
      "3.covert into upper case : LETS UPGRADE\n",
      "4.covert into lower case : lets upgrade\n",
      "5.To check only alphabets : False\n",
      "6.upper and lower conversion : lETS UPGRADE\n",
      "7.to replace characters : Lnts upgradn\n",
      "8.Length of string : 12\n",
      "9.To check character of string is numeric : False\n",
      "10.To check string contains space : False\n",
      "11.To find character in string : 7\n",
      "12. title : Lets Upgrade\n",
      "13.To check space: False\n",
      "14.To check character of string contain digits : False\n",
      "15.To check character of string contain decimal :: False\n"
     ]
    }
   ],
   "source": [
    "str=\"Lets upgrade\"\n",
    "\n",
    "print(\"1.capitalize function :\", str.capitalize())\n",
    "print(\"2.count of value occurs :\", str.count('e'))\n",
    "print(\"3.covert into upper case :\", str.upper())\n",
    "print(\"4.covert into lower case :\", str.lower())\n",
    "print(\"5.To check only alphabets :\", str.isalpha())\n",
    "print(\"6.upper and lower conversion :\",str.swapcase())\n",
    "print(\"7.to replace characters :\",str.replace('e','n'))\n",
    "print(\"8.Length of string :\",len(str))\n",
    "print(\"9.To check character of string is numeric :\",str.isnumeric())\n",
    "print(\"10.To check string contains space :\",str.isspace())\n",
    "print(\"11.To find character in string :\",str.find('g'))\n",
    "print(\"12. title :\",str.title())\n",
    "print(\"13.To check space:\",str.isspace())\n",
    "print(\"14.To check character of string contain digits :\",str.isdigit())\n",
    "print(\"15.To check character of string contain decimal ::\",str.isdecimal())\n"
   ]
  },
  {
   "cell_type": "raw",
   "metadata": {},
   "source": [
    "3.) write a program to check whether given string is a palindrome or anagram or none of them display the message accordingly to user"
   ]
  },
  {
   "cell_type": "code",
   "execution_count": 74,
   "metadata": {},
   "outputs": [
    {
     "name": "stdout",
     "output_type": "stream",
     "text": [
      "enter a string : listen\n",
      "The given string is  anagram\n"
     ]
    }
   ],
   "source": [
    "a=input(\"enter a string : \")\n",
    "b=a[::-1]\n",
    "count=0\n",
    "\n",
    "if(a==a[::-1]):\n",
    "    print(\"The given string is palindrome\")\n",
    "else:\n",
    "    for i in a:\n",
    "        for j in b:\n",
    "            if i==j:\n",
    "                count=count+1\n",
    "    if count==len(a):\n",
    "        print(\"The given string is  anagram\")\n",
    "       \n",
    "    else:\n",
    "        print(\"The given string is not a palindrome or anagarm\")\n",
    "       \n",
    "    \n",
    "        "
   ]
  },
  {
   "cell_type": "markdown",
   "metadata": {},
   "source": [
    "5.) write a pythons user defined function that removes all the additinal characters form the string and converts it finally to       lower case using buit-in lower().eg. if the string is \"Dr.Darshan Ingle@AI-ML Trainer\", then the output be\n",
    "    drdarshaningleaimltrainer"
   ]
  },
  {
   "cell_type": "code",
   "execution_count": 61,
   "metadata": {},
   "outputs": [
    {
     "name": "stdout",
     "output_type": "stream",
     "text": [
      "drdarshaningleaimltrainer\n"
     ]
    }
   ],
   "source": [
    "\n",
    "def remove(string): \n",
    "    return string.replace(\"-\",\"\").replace(\" \",\"\").replace(\".\",\"\").replace(\"@\",\"\")\n",
    "    \n",
    "\n",
    "\n",
    "string = 'Dr. Darshan ingle @AI-ML Trainer '\n",
    "print(remove(string.lower()))\n"
   ]
  }
 ],
 "metadata": {
  "kernelspec": {
   "display_name": "Python 3",
   "language": "python",
   "name": "python3"
  },
  "language_info": {
   "codemirror_mode": {
    "name": "ipython",
    "version": 3
   },
   "file_extension": ".py",
   "mimetype": "text/x-python",
   "name": "python",
   "nbconvert_exporter": "python",
   "pygments_lexer": "ipython3",
   "version": "3.7.6"
  }
 },
 "nbformat": 4,
 "nbformat_minor": 4
}
